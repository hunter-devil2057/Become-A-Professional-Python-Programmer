{
 "cells": [
  {
   "cell_type": "code",
   "execution_count": 1,
   "metadata": {},
   "outputs": [],
   "source": [
    "from bs4 import BeautifulSoup\n",
    "import re"
   ]
  },
  {
   "cell_type": "code",
   "execution_count": 3,
   "metadata": {},
   "outputs": [],
   "source": [
    "html_doc = \"\"\"\n",
    "<html>\n",
    "    <head>\n",
    "        <title>The Dormouse's Story </title>\n",
    "    </head>\n",
    "    <body>\n",
    "        <p class = \"title\">\n",
    "            <b>The Dormouse's story</b>\n",
    "        </p>\n",
    "        <p class = \"story\">Once upon a time there were three little sisters; and their names were\n",
    "            <a href=\"http://example.com/elsie\" class=\"sister\" id=\"link1\">Elsie</a>,\n",
    "            <a href=\"http://example.com/lacie\" class=\"sister\" id=\"link2\">Lacie</a>\n",
    "            and\n",
    "            <a href=\"http://example.com/tillie\" class=\"sister\" id=\"link3\">Tillie</a>;\n",
    "            and they lived at the bottom of a well.\n",
    "        </p>\n",
    "        <p class = \"story\">...</p>\n",
    "    </body>\n",
    "</html>\n",
    "\"\"\""
   ]
  },
  {
   "cell_type": "code",
   "execution_count": 4,
   "metadata": {},
   "outputs": [],
   "source": [
    "soup = BeautifulSoup(html_doc, \"html.parser\")"
   ]
  },
  {
   "cell_type": "code",
   "execution_count": 5,
   "metadata": {},
   "outputs": [
    {
     "name": "stdout",
     "output_type": "stream",
     "text": [
      "--soup.contents\n",
      "['\\n', <html>\n",
      "<head>\n",
      "<title>The Dormouse's Story </title>\n",
      "</head>\n",
      "<body>\n",
      "<p class=\"title\">\n",
      "<b>The Dormouse's story</b>\n",
      "</p>\n",
      "<p class=\"story\">Once upon a time there were three little sisters; and their names were\n",
      "            <a class=\"sister\" href=\"http://example.com/elsie\" id=\"link1\">Elsie</a>,\n",
      "            <a class=\"sister\" href=\"http://example.com/lacie\" id=\"link2\">Lacie</a>\n",
      "            and\n",
      "            <a class=\"sister\" href=\"http://example.com/tillie\" id=\"link3\">Tillie</a>;\n",
      "            and they lived at the bottom of a well.\n",
      "        </p>\n",
      "<p class=\"story\">...</p>\n",
      "</body>\n",
      "</html>, '\\n']\n",
      "\n"
     ]
    }
   ],
   "source": [
    "# Checking out the Contents inside the Soup Object\n",
    "print(\"--soup.contents\")\n",
    "print(soup.contents)\n",
    "print(\"\")"
   ]
  },
  {
   "cell_type": "code",
   "execution_count": 6,
   "metadata": {},
   "outputs": [
    {
     "name": "stdout",
     "output_type": "stream",
     "text": [
      "--len(soup.contents)\n",
      "3\n"
     ]
    }
   ],
   "source": [
    "# Checking out the Length of the Contents in  Soup Object\n",
    "print(\"--len(soup.contents)\")\n",
    "print(len(soup.contents))"
   ]
  },
  {
   "cell_type": "code",
   "execution_count": 7,
   "metadata": {},
   "outputs": [
    {
     "name": "stdout",
     "output_type": "stream",
     "text": [
      "Head Tag:\n",
      "<head>\n",
      "<title>The Dormouse's Story </title>\n",
      "</head>\n",
      "--head_tag\n",
      "\n"
     ]
    }
   ],
   "source": [
    "# Head Tag\n",
    "print(\"Head Tag:\")\n",
    "head_tag = soup.head\n",
    "print(head_tag)\n",
    "print(\"--head_tag\")\n",
    "print(\"\")"
   ]
  },
  {
   "cell_type": "code",
   "execution_count": 21,
   "metadata": {},
   "outputs": [
    {
     "name": "stdout",
     "output_type": "stream",
     "text": [
      "--head_tag.contents\n",
      "['\\n', <title>The Dormouse's Story </title>, '\\n']\n"
     ]
    }
   ],
   "source": [
    "# Checking out the Contents in Head Tag\n",
    "print(\"--head_tag.contents\")\n",
    "print(head_tag.contents)"
   ]
  },
  {
   "cell_type": "code",
   "execution_count": 10,
   "metadata": {},
   "outputs": [
    {
     "name": "stdout",
     "output_type": "stream",
     "text": [
      "--head_tag.string\n",
      "No string available\n",
      "\n"
     ]
    }
   ],
   "source": [
    "# Accessing the String of the Head Tag, if available\n",
    "print(\"--head_tag.string\")\n",
    "if head_tag.string is None:\n",
    "    print(\"No string available\")\n",
    "else:\n",
    "    print(\"head_tag.string\")\n",
    "print(\"\")"
   ]
  },
  {
   "cell_type": "code",
   "execution_count": 11,
   "metadata": {},
   "outputs": [
    {
     "name": "stdout",
     "output_type": "stream",
     "text": [
      "Title Tag:\n",
      "<title>The Dormouse's Story </title>\n"
     ]
    }
   ],
   "source": [
    "# Title Tag\n",
    "print(\"Title Tag:\")\n",
    "title_tag = soup.title\n",
    "print(title_tag)"
   ]
  },
  {
   "cell_type": "code",
   "execution_count": 12,
   "metadata": {},
   "outputs": [
    {
     "name": "stdout",
     "output_type": "stream",
     "text": [
      "--title_tag.contents\n",
      "[\"The Dormouse's Story \"]\n",
      "\n"
     ]
    }
   ],
   "source": [
    "# Checking out the Contents in Title Tag\n",
    "print(\"--title_tag.contents\")\n",
    "if title_tag.contents is None:\n",
    "    print(\"No contents available\")\n",
    "else:\n",
    "    print(title_tag.contents)\n",
    "print(\"\")"
   ]
  },
  {
   "cell_type": "code",
   "execution_count": 22,
   "metadata": {},
   "outputs": [
    {
     "name": "stdout",
     "output_type": "stream",
     "text": [
      "--len(soup.contents)\n",
      "3\n",
      "--loop start\n",
      "\n",
      "\n",
      "<title>The Dormouse's Story </title>\n",
      "The Dormouse's Story \n",
      "\n",
      "\n"
     ]
    }
   ],
   "source": [
    "print(\"--len(soup.contents)\")\n",
    "print(len(soup.contents))\n",
    "print(\"--loop start\")\n",
    "for child in head_tag.descendants:\n",
    "    print(child)"
   ]
  },
  {
   "cell_type": "code",
   "execution_count": 13,
   "metadata": {},
   "outputs": [
    {
     "name": "stdout",
     "output_type": "stream",
     "text": [
      "--title_tag.string\n",
      "The Dormouse's Story \n",
      "\n"
     ]
    }
   ],
   "source": [
    "# Accessing the String of the Title Tag, if available\n",
    "print(\"--title_tag.string\")\n",
    "print(title_tag.string)\n",
    "print(\"\")"
   ]
  },
  {
   "cell_type": "code",
   "execution_count": 27,
   "metadata": {},
   "outputs": [
    {
     "name": "stdout",
     "output_type": "stream",
     "text": [
      "--title_tag.parent\n",
      "<head>\n",
      "<title>The Dormouse's Story </title>\n",
      "</head>\n",
      "<title>The Dormouse's Story </title>\n",
      "--title_tag.string.parent\n",
      "<title>The Dormouse's Story </title>\n",
      "\n"
     ]
    }
   ],
   "source": [
    "title_tag = soup.title\n",
    "print(\"--title_tag.parent\")\n",
    "print(title_tag.parent)\n",
    "print(title_tag.string.parent)\n",
    "print(\"--title_tag.string.parent\")\n",
    "print(title_tag.string.parent)\n",
    "print(\"\")"
   ]
  },
  {
   "cell_type": "code",
   "execution_count": 14,
   "metadata": {},
   "outputs": [
    {
     "name": "stdout",
     "output_type": "stream",
     "text": [
      "Paragraph Tag:\n",
      "<p class=\"title\">\n",
      "<b>The Dormouse's story</b>\n",
      "</p>\n"
     ]
    }
   ],
   "source": [
    "# Paragraph Tag\n",
    "print(\"Paragraph Tag:\")\n",
    "p_tag = soup.p\n",
    "print(p_tag)"
   ]
  },
  {
   "cell_type": "code",
   "execution_count": 20,
   "metadata": {},
   "outputs": [
    {
     "name": "stdout",
     "output_type": "stream",
     "text": [
      "Contents in Paragraph Tag:\n",
      "['\\n', <b>The Dormouse's story</b>, '\\n']\n"
     ]
    }
   ],
   "source": [
    "# Contents in the Paragraph Tag\n",
    "print(\"Contents in Paragraph Tag:\")\n",
    "print(p_tag.contents)"
   ]
  },
  {
   "cell_type": "code",
   "execution_count": 30,
   "metadata": {},
   "outputs": [
    {
     "name": "stdout",
     "output_type": "stream",
     "text": [
      "--html tag.parent\n",
      "\n",
      "<html>\n",
      "<head>\n",
      "<title>The Dormouse's Story </title>\n",
      "</head>\n",
      "<body>\n",
      "<p class=\"title\">\n",
      "<b>The Dormouse's story</b>\n",
      "</p>\n",
      "<p class=\"story\">Once upon a time there were three little sisters; and their names were\n",
      "            <a class=\"sister\" href=\"http://example.com/elsie\" id=\"link1\">Elsie</a>,\n",
      "            <a class=\"sister\" href=\"http://example.com/lacie\" id=\"link2\">Lacie</a>\n",
      "            and\n",
      "            <a class=\"sister\" href=\"http://example.com/tillie\" id=\"link3\">Tillie</a>;\n",
      "            and they lived at the bottom of a well.\n",
      "        </p>\n",
      "<p class=\"story\">...</p>\n",
      "</body>\n",
      "</html>\n",
      "\n"
     ]
    }
   ],
   "source": [
    "html_tag = soup.html\n",
    "print(\"--html tag.parent\")\n",
    "print(html_tag.parent)"
   ]
  },
  {
   "cell_type": "code",
   "execution_count": 34,
   "metadata": {},
   "outputs": [
    {
     "name": "stdout",
     "output_type": "stream",
     "text": [
      "--type(html_tag.parent)\n",
      "<class 'bs4.BeautifulSoup'>\n",
      "\n"
     ]
    }
   ],
   "source": [
    "print(\"--type(html_tag.parent)\")\n",
    "print(type(html_tag.parent))\n",
    "print(\"\")"
   ]
  },
  {
   "cell_type": "code",
   "execution_count": 36,
   "metadata": {},
   "outputs": [
    {
     "name": "stdout",
     "output_type": "stream",
     "text": [
      "--soup.parent\n",
      "None\n"
     ]
    }
   ],
   "source": [
    "print(\"--soup.parent\")\n",
    "print(soup.parent)"
   ]
  },
  {
   "cell_type": "code",
   "execution_count": 37,
   "metadata": {},
   "outputs": [
    {
     "name": "stdout",
     "output_type": "stream",
     "text": [
      "--link\n",
      "<a class=\"sister\" href=\"http://example.com/elsie\" id=\"link1\">Elsie</a>\n"
     ]
    }
   ],
   "source": [
    "link = soup.a\n",
    "print(\"--link\")\n",
    "print(link)"
   ]
  },
  {
   "cell_type": "code",
   "execution_count": 38,
   "metadata": {},
   "outputs": [
    {
     "name": "stdout",
     "output_type": "stream",
     "text": [
      "p\n",
      "body\n",
      "html\n",
      "[document]\n"
     ]
    }
   ],
   "source": [
    "for parent in link.parents: \n",
    "    if parent is None:\n",
    "        print(parent)\n",
    "    else:\n",
    "        print(parent.name)"
   ]
  }
 ],
 "metadata": {
  "kernelspec": {
   "display_name": "Python 3",
   "language": "python",
   "name": "python3"
  },
  "language_info": {
   "codemirror_mode": {
    "name": "ipython",
    "version": 3
   },
   "file_extension": ".py",
   "mimetype": "text/x-python",
   "name": "python",
   "nbconvert_exporter": "python",
   "pygments_lexer": "ipython3",
   "version": "3.13.2"
  }
 },
 "nbformat": 4,
 "nbformat_minor": 2
}
