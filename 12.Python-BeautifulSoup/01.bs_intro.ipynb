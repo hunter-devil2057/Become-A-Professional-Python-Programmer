{
 "cells": [
  {
   "cell_type": "code",
   "execution_count": 1,
   "metadata": {},
   "outputs": [
    {
     "name": "stdout",
     "output_type": "stream",
     "text": [
      "<title>Page title</title>\n",
      "Page title\n",
      "[<p align=\"center\" id=\"firstpara\">This is a paragraph <b>one</b></p>, <p align=\"left\" id=\"secondpara\">This is a paragraph <b>two</b></p>]\n",
      "Number of Paragraph:  2\n"
     ]
    }
   ],
   "source": [
    "from bs4 import BeautifulSoup\n",
    "import re   # helps to provide regular expression support\n",
    "\n",
    "# Creating HTML Content\n",
    "input = \"\"\"<html>\n",
    "<head>\n",
    "    <title>Page title</title>\n",
    "</head>\n",
    "<body>\n",
    "    <p id = \"firstpara\" align = \"center\">This is a paragraph <b>one</b></p>\n",
    "    <p id = \"secondpara\" align = \"left\">This is a paragraph <b>two</b></p> \n",
    "</body></html>\"\"\"\n",
    "\n",
    "# Parsing the HTML Content using BeautifulSoup \n",
    "soup = BeautifulSoup(input, 'html.parser')\n",
    "\n",
    "# Pulling out the HTML Tag\n",
    "titleTag = soup.html.head.title\n",
    "print(titleTag)\n",
    "\n",
    "# Accessing the Attribute/String of the titleTag\n",
    "print(titleTag.string)\n",
    "\n",
    "# Finding out the  paragraph tags\n",
    "print(soup.find_all('p'))\n",
    "# Finding out the Number of Paragraphs  tags in the HTML\n",
    "print(\"Number of Paragraph: \", len(soup('p')))"
   ]
  }
 ],
 "metadata": {
  "kernelspec": {
   "display_name": "base",
   "language": "python",
   "name": "python3"
  },
  "language_info": {
   "codemirror_mode": {
    "name": "ipython",
    "version": 3
   },
   "file_extension": ".py",
   "mimetype": "text/x-python",
   "name": "python",
   "nbconvert_exporter": "python",
   "pygments_lexer": "ipython3",
   "version": "3.12.7"
  }
 },
 "nbformat": 4,
 "nbformat_minor": 2
}
